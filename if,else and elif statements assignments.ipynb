{
 "cells": [
  {
   "cell_type": "code",
   "execution_count": 3,
   "id": "56d333d7-cd89-42a5-9d90-2c4d00ec2df4",
   "metadata": {},
   "outputs": [
    {
     "ename": "SyntaxError",
     "evalue": "unterminated string literal (detected at line 9) (283362120.py, line 9)",
     "output_type": "error",
     "traceback": [
      "\u001b[1;36m  Cell \u001b[1;32mIn[3], line 9\u001b[1;36m\u001b[0m\n\u001b[1;33m    print(\"total bill amount: rs:,total_bill)\u001b[0m\n\u001b[1;37m          ^\u001b[0m\n\u001b[1;31mSyntaxError\u001b[0m\u001b[1;31m:\u001b[0m unterminated string literal (detected at line 9)\n"
     ]
    }
   ],
   "source": [
    "units=int(input(\"enter the number of units:\"))\n",
    "total_bill=0\n",
    "if units<=100:\n",
    "    total_bill=0\n",
    "elif units<=200:\n",
    "    total_bill=(units-100)*5\n",
    "else:\n",
    "    total_bill=100*5+(units-200)*10\n",
    "    print(\"total bill amount: rs:,total_bill)"
   ]
  },
  {
   "cell_type": "code",
   "execution_count": 11,
   "id": "f81eb050-f980-48be-8c35-c1ff52c710dc",
   "metadata": {},
   "outputs": [
    {
     "name": "stdin",
     "output_type": "stream",
     "text": [
      "enter the number of units: 542\n"
     ]
    },
    {
     "name": "stdout",
     "output_type": "stream",
     "text": [
      "Total bill amount: Rs 3920\n"
     ]
    }
   ],
   "source": [
    "units=int(input(\"enter the number of units:\"))\n",
    "total_bill=0\n",
    "if units<=100:\n",
    "    total_bill=0\n",
    "elif units<=200:\n",
    "    total_bill=(units-100)*5\n",
    "else:\n",
    "    total_bill=100*5+(units-200)*10\n",
    "    print(\"Total bill amount: Rs\",total_bill)"
   ]
  },
  {
   "cell_type": "code",
   "execution_count": 13,
   "id": "dc4608c1-282d-4dbe-8342-f6bb83cdbfa7",
   "metadata": {},
   "outputs": [
    {
     "ename": "SyntaxError",
     "evalue": "invalid syntax (1935125951.py, line 4)",
     "output_type": "error",
     "traceback": [
      "\u001b[1;36m  Cell \u001b[1;32mIn[13], line 4\u001b[1;36m\u001b[0m\n\u001b[1;33m    elif percentage 80<=percentage<=90:\u001b[0m\n\u001b[1;37m                    ^\u001b[0m\n\u001b[1;31mSyntaxError\u001b[0m\u001b[1;31m:\u001b[0m invalid syntax\n"
     ]
    }
   ],
   "source": [
    "percentage=float(input(\"enter the percentage:\"))\n",
    "if percentage > 90:\n",
    "    grade=\"A\"\n",
    "elif percentage 80<=percentage<=90:\n",
    "grade=\"B\"\n",
    "elif percentage 60<=percentage<=80:\n",
    "grade=\"c\"\n",
    "else:\n",
    "grade=\"D\"\n",
    "print(\"Grade:\",grade)"
   ]
  },
  {
   "cell_type": "code",
   "execution_count": 24,
   "id": "f6a88308-2300-426d-aa0a-638ef2990074",
   "metadata": {},
   "outputs": [
    {
     "name": "stdin",
     "output_type": "stream",
     "text": [
      "enter the percentage: 45\n"
     ]
    },
    {
     "name": "stdout",
     "output_type": "stream",
     "text": [
      "Grade: C\n"
     ]
    }
   ],
   "source": [
    "percentage=float(input(\"enter the percentage:\"))\n",
    "if percentage > 90:\n",
    "    grade=\"A\"\n",
    "elif 80 <= percentage <= 90:\n",
    "    grade=\"B\"\n",
    "elif 60 <= percentage <= 80:\n",
    "    grade=\"C\"\n",
    "else:\n",
    "    print(\"Grade:\", grade)"
   ]
  },
  {
   "cell_type": "code",
   "execution_count": 27,
   "id": "6a77a6f2-fb7b-4c97-8ec5-73b3977f4579",
   "metadata": {},
   "outputs": [
    {
     "name": "stdin",
     "output_type": "stream",
     "text": [
      "Enter the Age of Person 1:  25\n",
      "Enter the Age of Person 2:  45\n",
      "Enter the Age of Person 3:  68\n",
      "Enter the Age of Person 4:  45\n"
     ]
    },
    {
     "name": "stdout",
     "output_type": "stream",
     "text": [
      "The Youngest Age is Person 1\n"
     ]
    }
   ],
   "source": [
    "'''Q3. Accept the age of 4 people and display the youngest one?'''\n",
    "age1 = int(input(\"Enter the Age of Person 1: \"))\n",
    "age2 = int(input(\"Enter the Age of Person 2: \"))\n",
    "age3 = int(input(\"Enter the Age of Person 3: \"))\n",
    "age4 = int(input(\"Enter the Age of Person 4: \"))\n",
    "\n",
    "if age1 < age2 and age1 < age3 and age1 < age4:\n",
    "    print(\"The Youngest Age is Person 1\")\n",
    "elif age2 < age1 and age2 < age3 and age2 < age4:\n",
    "    print(\"The Youngest Age is Person 2\")\n",
    "elif age3 < age1 and age3 < age2 and age3 < age4:\n",
    "    print(\"The Youngest Age is Person 3\")\n",
    "else:\n",
    "    print(\"The Youngest Age is Person 4\")"
   ]
  },
  {
   "cell_type": "code",
   "execution_count": 9,
   "id": "ac0d1443-125a-4e7c-a596-7ee155b1b56f",
   "metadata": {},
   "outputs": [
    {
     "ename": "SyntaxError",
     "evalue": "unmatched ')' (2659907149.py, line 2)",
     "output_type": "error",
     "traceback": [
      "\u001b[1;36m  Cell \u001b[1;32mIn[9], line 2\u001b[1;36m\u001b[0m\n\u001b[1;33m    years_of_service=float(\"enter years of service:\"))\u001b[0m\n\u001b[1;37m                                                     ^\u001b[0m\n\u001b[1;31mSyntaxError\u001b[0m\u001b[1;31m:\u001b[0m unmatched ')'\n"
     ]
    }
   ],
   "source": [
    "salary=float(input(\"enter your salary:\"))\n",
    "years_of_service=float(\"enter years of service:\"))\n",
    "if years_of_service>10:\n",
    "  bonus_percentage=0.10\n",
    "elif 6<=years_of_service<=10:\n",
    "    bonus_percentage=0.08\n",
    "else:\n",
    "    bonus_percentage=0.5\n",
    "    bonus_amount=salary*bonus_percentage\n",
    "    net_bonus_amount=salary+bonus_amount\n",
    "    print(\"your net bonus amount is:\",bonus_amount"
   ]
  },
  {
   "cell_type": "code",
   "execution_count": 11,
   "id": "1a7c802f-eded-4f88-9d13-76933fe4de4e",
   "metadata": {},
   "outputs": [
    {
     "name": "stdin",
     "output_type": "stream",
     "text": [
      "enter your salary: 354000\n",
      "enter years of service: 2\n"
     ]
    },
    {
     "name": "stdout",
     "output_type": "stream",
     "text": [
      "your net bonus amount is: 17700.0\n"
     ]
    }
   ],
   "source": [
    "salary=float(input(\"enter your salary:\"))\n",
    "years_of_service=float(input(\"enter years of service:\"))\n",
    "if years_of_service>10:\n",
    "  bonus_percentage=0.10\n",
    "elif 6<=years_of_service<=10:\n",
    "    bonus_percentage=0.08\n",
    "else:\n",
    "    bonus_percentage=0.05\n",
    "    bonus_amount=salary*bonus_percentage\n",
    "    net_bonus_amount=salary+bonus_amount\n",
    "    print(\"your net bonus amount is:\",bonus_amount)"
   ]
  },
  {
   "cell_type": "code",
   "execution_count": 20,
   "id": "1b8f3420-0d15-431f-a831-359146d156bc",
   "metadata": {},
   "outputs": [
    {
     "name": "stdin",
     "output_type": "stream",
     "text": [
      "enter the price: 8456.23\n"
     ]
    },
    {
     "name": "stdout",
     "output_type": "stream",
     "text": [
      "your net amount to pay is: 7610.576999999999\n"
     ]
    }
   ],
   "source": [
    "marked_price=float(input(\"enter the price:\"))\n",
    "if marked_price>10000:\n",
    "    discount_percentage=0.20\n",
    "elif 7000<=marked_price<=1000:\n",
    "    discount_percentage=0.15\n",
    "else:\n",
    "    discount_percentage=0.10\n",
    "    Discount_amount=marked_price*discount\n",
    "    net_amount=marked_price-discount_amount\n",
    "    print(\"your net amount to pay is:\",net_amount)"
   ]
  },
  {
   "cell_type": "code",
   "execution_count": null,
   "id": "059965f3-1d9d-4051-b992-b282ac719983",
   "metadata": {},
   "outputs": [],
   "source": []
  },
  {
   "cell_type": "code",
   "execution_count": null,
   "id": "3d015832-2033-47ab-9e0e-d180bb7101ba",
   "metadata": {},
   "outputs": [],
   "source": []
  },
  {
   "cell_type": "code",
   "execution_count": 36,
   "id": "74305c6d-9558-40fb-9438-bb3c9020ad5a",
   "metadata": {},
   "outputs": [
    {
     "name": "stdin",
     "output_type": "stream",
     "text": [
      "enter the number: 525\n"
     ]
    },
    {
     "name": "stdout",
     "output_type": "stream",
     "text": [
      "hello\n"
     ]
    }
   ],
   "source": [
    "''''Q8. Write a program to display \"Hello\" if a number entered\n",
    "by user is a multiple of five, otherwise print \"Bye\"?'''\n",
    "number=int(input(\"enter the number:\"))\n",
    "if number*5:\n",
    "    print(\"hello\")\n",
    "else:\n",
    "    print(\"bye\")"
   ]
  },
  {
   "cell_type": "code",
   "execution_count": null,
   "id": "9990db5b-fdf6-420f-895a-f5c6396b9d98",
   "metadata": {},
   "outputs": [],
   "source": []
  },
  {
   "cell_type": "code",
   "execution_count": null,
   "id": "a375bbc4-3843-4acb-82da-276295f480a9",
   "metadata": {},
   "outputs": [],
   "source": []
  },
  {
   "cell_type": "code",
   "execution_count": 37,
   "id": "efe0250e-fa60-4a59-879a-cee8442a2cab",
   "metadata": {},
   "outputs": [
    {
     "name": "stdin",
     "output_type": "stream",
     "text": [
      "enter the number: 993\n"
     ]
    },
    {
     "ename": "NameError",
     "evalue": "name 'last_digit' is not defined",
     "output_type": "error",
     "traceback": [
      "\u001b[1;31m---------------------------------------------------------------------------\u001b[0m",
      "\u001b[1;31mNameError\u001b[0m                                 Traceback (most recent call last)",
      "Cell \u001b[1;32mIn[37], line 6\u001b[0m\n\u001b[0;32m      1\u001b[0m \u001b[38;5;124;03m'''Q9. Write a program to check whether the last digit of a number\u001b[39;00m\n\u001b[0;32m      2\u001b[0m \u001b[38;5;124;03m(entered by user) is divisible by 3 or not?'''\u001b[39;00m\n\u001b[0;32m      5\u001b[0m number\u001b[38;5;241m=\u001b[39m\u001b[38;5;28mint\u001b[39m(\u001b[38;5;28minput\u001b[39m(\u001b[38;5;124m\"\u001b[39m\u001b[38;5;124menter the number:\u001b[39m\u001b[38;5;124m\"\u001b[39m))\n\u001b[1;32m----> 6\u001b[0m \u001b[38;5;28;01mif\u001b[39;00m last_digit\u001b[38;5;241m%\u001b[39m\u001b[38;5;241m3\u001b[39m:\n\u001b[0;32m      7\u001b[0m     \u001b[38;5;28mprint\u001b[39m(\u001b[38;5;124m\"\u001b[39m\u001b[38;5;124mYes\u001b[39m\u001b[38;5;124m\"\u001b[39m)\n\u001b[0;32m      8\u001b[0m \u001b[38;5;28;01melse\u001b[39;00m:\n",
      "\u001b[1;31mNameError\u001b[0m: name 'last_digit' is not defined"
     ]
    }
   ],
   "source": [
    "'''Q9. Write a program to check whether the last digit of a number\n",
    "(entered by user) is divisible by 3 or not?'''\n",
    "\n",
    "\n",
    "number=int(input(\"enter the number:\"))\n",
    "if last_digit%3:\n",
    "    print(\"Yes\")\n",
    "else:\n",
    "    print(\"NO\")"
   ]
  },
  {
   "cell_type": "code",
   "execution_count": 41,
   "id": "7086d286-7ebb-4983-8479-198d51f134f6",
   "metadata": {},
   "outputs": [
    {
     "name": "stdin",
     "output_type": "stream",
     "text": [
      "enter the number: 6699\n"
     ]
    },
    {
     "name": "stdout",
     "output_type": "stream",
     "text": [
      "the number is divisible by 3\n"
     ]
    }
   ],
   "source": [
    "'''Q9. Write a program to check whether the last digit of a number\n",
    "(entered by user) is divisible by 3 or not?'''\n",
    "number=int(input(\"enter the number:\"))\n",
    "last_digit=number%10\n",
    "if last_digit%3==0:\n",
    "    print(\"the number is divisible by 3\")\n",
    "else:\n",
    "    print(\"the number is not divisible by 3\")"
   ]
  },
  {
   "cell_type": "code",
   "execution_count": 69,
   "id": "cd1aa865-b85a-49f6-96d0-dc8c202ed5a9",
   "metadata": {},
   "outputs": [
    {
     "name": "stdin",
     "output_type": "stream",
     "text": [
      "enter number 1: 45\n",
      "enter number 2: 86\n",
      "enter number 3: 25\n"
     ]
    },
    {
     "name": "stdout",
     "output_type": "stream",
     "text": [
      "num1 is the second largest number\n"
     ]
    }
   ],
   "source": [
    "'''Q5. Accept three numbers from the user and\n",
    "display the second largest number?'''\n",
    "num1=int(input(\"enter number 1:\"))\n",
    "num2=int(input(\"enter number 2:\"))\n",
    "num3=int(input(\"enter number 3:\"))\n",
    "max_num=max(num1,num2,num3)\n",
    "min_num=min(num1,num2,num3)\n",
    "if num1!=max_num and num1!=min_num:\n",
    "    print(\"num1 is the second largest number\")\n",
    "elif num2!=max_num and num2!=min_num:\n",
    "    print(\"num2 is the second largest number\")\n",
    "else:\n",
    "    print(\"num3 is the second largest number\")\n",
    "\n"
   ]
  },
  {
   "cell_type": "code",
   "execution_count": null,
   "id": "7dd06c74-f962-4a0a-94ec-1f1059e3e931",
   "metadata": {},
   "outputs": [],
   "source": []
  },
  {
   "cell_type": "code",
   "execution_count": 52,
   "id": "ba53fb8e-4855-4a60-9ac7-6561e69bc7ec",
   "metadata": {},
   "outputs": [
    {
     "name": "stdin",
     "output_type": "stream",
     "text": [
      "enter the number: 596\n"
     ]
    },
    {
     "name": "stdout",
     "output_type": "stream",
     "text": [
      "the number is three digit number\n"
     ]
    }
   ],
   "source": [
    "'''Q10. Write a program to check whether a number entered\n",
    "is three-digit number or not?'''\n",
    "number=int(input(\"enter the number:\"))\n",
    "if 100<=number<=999:\n",
    "    print(\"the number is three digit number\")\n",
    "else:\n",
    "     print(\"no\")\n",
    "    "
   ]
  }
 ],
 "metadata": {
  "kernelspec": {
   "display_name": "Python 3 (ipykernel)",
   "language": "python",
   "name": "python3"
  },
  "language_info": {
   "codemirror_mode": {
    "name": "ipython",
    "version": 3
   },
   "file_extension": ".py",
   "mimetype": "text/x-python",
   "name": "python",
   "nbconvert_exporter": "python",
   "pygments_lexer": "ipython3",
   "version": "3.11.7"
  }
 },
 "nbformat": 4,
 "nbformat_minor": 5
}
